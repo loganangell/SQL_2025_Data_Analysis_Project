{
 "cells": [
  {
   "cell_type": "code",
   "execution_count": 11,
   "id": "5917d4ad",
   "metadata": {},
   "outputs": [],
   "source": [
    "import pandas as pd\n",
    "import matplotlib.pyplot as plt"
   ]
  },
  {
   "cell_type": "code",
   "execution_count": 12,
   "id": "efb20bf4",
   "metadata": {},
   "outputs": [
    {
     "data": {
      "application/vnd.microsoft.datawrangler.viewer.v0+json": {
       "columns": [
        {
         "name": "index",
         "rawType": "int64",
         "type": "integer"
        },
        {
         "name": "skills",
         "rawType": "object",
         "type": "string"
        },
        {
         "name": "demand_count",
         "rawType": "int64",
         "type": "integer"
        }
       ],
       "ref": "4f3e1c16-7252-46bb-8ffd-5689ebdb1c1a",
       "rows": [
        [
         "0",
         "sql",
         "4951"
        ],
        [
         "1",
         "python",
         "4714"
        ],
        [
         "2",
         "aws",
         "2194"
        ],
        [
         "3",
         "tableau",
         "1833"
        ],
        [
         "4",
         "azure",
         "1643"
        ]
       ],
       "shape": {
        "columns": 2,
        "rows": 5
       }
      },
      "text/html": [
       "<div>\n",
       "<style scoped>\n",
       "    .dataframe tbody tr th:only-of-type {\n",
       "        vertical-align: middle;\n",
       "    }\n",
       "\n",
       "    .dataframe tbody tr th {\n",
       "        vertical-align: top;\n",
       "    }\n",
       "\n",
       "    .dataframe thead th {\n",
       "        text-align: right;\n",
       "    }\n",
       "</style>\n",
       "<table border=\"1\" class=\"dataframe\">\n",
       "  <thead>\n",
       "    <tr style=\"text-align: right;\">\n",
       "      <th></th>\n",
       "      <th>skills</th>\n",
       "      <th>demand_count</th>\n",
       "    </tr>\n",
       "  </thead>\n",
       "  <tbody>\n",
       "    <tr>\n",
       "      <th>0</th>\n",
       "      <td>sql</td>\n",
       "      <td>4951</td>\n",
       "    </tr>\n",
       "    <tr>\n",
       "      <th>1</th>\n",
       "      <td>python</td>\n",
       "      <td>4714</td>\n",
       "    </tr>\n",
       "    <tr>\n",
       "      <th>2</th>\n",
       "      <td>aws</td>\n",
       "      <td>2194</td>\n",
       "    </tr>\n",
       "    <tr>\n",
       "      <th>3</th>\n",
       "      <td>tableau</td>\n",
       "      <td>1833</td>\n",
       "    </tr>\n",
       "    <tr>\n",
       "      <th>4</th>\n",
       "      <td>azure</td>\n",
       "      <td>1643</td>\n",
       "    </tr>\n",
       "  </tbody>\n",
       "</table>\n",
       "</div>"
      ],
      "text/plain": [
       "    skills  demand_count\n",
       "0      sql          4951\n",
       "1   python          4714\n",
       "2      aws          2194\n",
       "3  tableau          1833\n",
       "4    azure          1643"
      ]
     },
     "execution_count": 12,
     "metadata": {},
     "output_type": "execute_result"
    }
   ],
   "source": [
    "# Load the CSV file into a DataFrame\n",
    "df_demanded_skills = pd.read_csv('../csv_files_datapull/3_top_demanded_skills_Overall.csv')\n",
    "df_demanded_skills.head(10)"
   ]
  },
  {
   "cell_type": "code",
   "execution_count": 13,
   "id": "56159619",
   "metadata": {},
   "outputs": [
    {
     "data": {
      "image/png": "[encoded data removed]",
      "text/plain": [
       "<Figure size 1000x600 with 1 Axes>"
      ]
     },
     "metadata": {},
     "output_type": "display_data"
    }
   ],
   "source": [
    "# Name Variables\n",
    "skill_name = df_demanded_skills['skills']\n",
    "count = df_demanded_skills['demand_count']\n",
    "bar_color = '#8E4585'\n",
    "\n",
    "plt.figure(figsize=(10, 6))\n",
    "plt.bar(skill_name, count, color = bar_color)\n",
    "plt.title('Most Demanded Data Professional Skills (2025)')\n",
    "plt.xlabel('Skill')\n",
    "plt.ylabel('Count')\n",
    "plt.xticks(rotation=45, ha='right')  # Added this to rotate x-axis labels for better readability\n",
    "plt.show()"
   ]
  }
 ],
 "metadata": {
  "kernelspec": {
   "display_name": "Python 3",
   "language": "python",
   "name": "python3"
  },
  "language_info": {
   "codemirror_mode": {
    "name": "ipython",
    "version": 3
   },
   "file_extension": ".py",
   "mimetype": "text/x-python",
   "name": "python",
   "nbconvert_exporter": "python",
   "pygments_lexer": "ipython3",
   "version": "3.13.7"
  }
 },
 "nbformat": 4,
 "nbformat_minor": 5
}
