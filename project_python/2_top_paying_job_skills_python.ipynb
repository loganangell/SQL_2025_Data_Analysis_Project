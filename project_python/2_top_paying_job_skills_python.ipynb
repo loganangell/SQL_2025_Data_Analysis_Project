{
 "cells": [
  {
   "cell_type": "code",
   "execution_count": 1,
   "id": "9e60c79f",
   "metadata": {},
   "outputs": [],
   "source": [
    "import pandas as pd\n",
    "import numpy as np\n",
    "import matplotlib.pyplot as plt"
   ]
  },
  {
   "cell_type": "code",
   "execution_count": 12,
   "id": "a2cde099",
   "metadata": {},
   "outputs": [
    {
     "data": {
      "application/vnd.microsoft.datawrangler.viewer.v0+json": {
       "columns": [
        {
         "name": "index",
         "rawType": "int64",
         "type": "integer"
        },
        {
         "name": "job_id",
         "rawType": "int64",
         "type": "integer"
        },
        {
         "name": "company_name",
         "rawType": "object",
         "type": "string"
        },
        {
         "name": "job_title",
         "rawType": "object",
         "type": "string"
        },
        {
         "name": "average_yearly_salary_$",
         "rawType": "object",
         "type": "string"
        },
        {
         "name": "skills",
         "rawType": "object",
         "type": "string"
        }
       ],
       "ref": "3d63ec41-e700-46b4-abcd-c98420d628d2",
       "rows": [
        [
         "0",
         "1574285",
         "Netflix",
         "Data Scientist , Games [Remote]",
         "     680,000",
         "sql"
        ],
        [
         "1",
         "1574285",
         "Netflix",
         "Data Scientist , Games [Remote]",
         "     680,000",
         "python"
        ],
        [
         "2",
         "1574285",
         "Netflix",
         "Data Scientist , Games [Remote]",
         "     680,000",
         "r"
        ],
        [
         "3",
         "1283788",
         "Netflix",
         "Analytics Engineer (L5) - Live Quality of Experience",
         "     445,000",
         "sql"
        ],
        [
         "4",
         "1283788",
         "Netflix",
         "Analytics Engineer (L5) - Live Quality of Experience",
         "     445,000",
         "python"
        ],
        [
         "5",
         "1578513",
         "Netflix",
         "Data Engineer - Commerce Product Data Engineering [Remote]",
         "     445,000",
         "sql"
        ],
        [
         "6",
         "1578513",
         "Netflix",
         "Data Engineer - Commerce Product Data Engineering [Remote]",
         "     445,000",
         "python"
        ],
        [
         "7",
         "1578513",
         "Netflix",
         "Data Engineer - Commerce Product Data Engineering [Remote]",
         "     445,000",
         "scala"
        ],
        [
         "8",
         "1578513",
         "Netflix",
         "Data Engineer - Commerce Product Data Engineering [Remote]",
         "     445,000",
         "java"
        ],
        [
         "9",
         "1578513",
         "Netflix",
         "Data Engineer - Commerce Product Data Engineering [Remote]",
         "     445,000",
         "spark"
        ]
       ],
       "shape": {
        "columns": 5,
        "rows": 10
       }
      },
      "text/html": [
       "<div>\n",
       "<style scoped>\n",
       "    .dataframe tbody tr th:only-of-type {\n",
       "        vertical-align: middle;\n",
       "    }\n",
       "\n",
       "    .dataframe tbody tr th {\n",
       "        vertical-align: top;\n",
       "    }\n",
       "\n",
       "    .dataframe thead th {\n",
       "        text-align: right;\n",
       "    }\n",
       "</style>\n",
       "<table border=\"1\" class=\"dataframe\">\n",
       "  <thead>\n",
       "    <tr style=\"text-align: right;\">\n",
       "      <th></th>\n",
       "      <th>job_id</th>\n",
       "      <th>company_name</th>\n",
       "      <th>job_title</th>\n",
       "      <th>average_yearly_salary_$</th>\n",
       "      <th>skills</th>\n",
       "    </tr>\n",
       "  </thead>\n",
       "  <tbody>\n",
       "    <tr>\n",
       "      <th>0</th>\n",
       "      <td>1574285</td>\n",
       "      <td>Netflix</td>\n",
       "      <td>Data Scientist , Games [Remote]</td>\n",
       "      <td>680,000</td>\n",
       "      <td>sql</td>\n",
       "    </tr>\n",
       "    <tr>\n",
       "      <th>1</th>\n",
       "      <td>1574285</td>\n",
       "      <td>Netflix</td>\n",
       "      <td>Data Scientist , Games [Remote]</td>\n",
       "      <td>680,000</td>\n",
       "      <td>python</td>\n",
       "    </tr>\n",
       "    <tr>\n",
       "      <th>2</th>\n",
       "      <td>1574285</td>\n",
       "      <td>Netflix</td>\n",
       "      <td>Data Scientist , Games [Remote]</td>\n",
       "      <td>680,000</td>\n",
       "      <td>r</td>\n",
       "    </tr>\n",
       "    <tr>\n",
       "      <th>3</th>\n",
       "      <td>1283788</td>\n",
       "      <td>Netflix</td>\n",
       "      <td>Analytics Engineer (L5) - Live Quality of Expe...</td>\n",
       "      <td>445,000</td>\n",
       "      <td>sql</td>\n",
       "    </tr>\n",
       "    <tr>\n",
       "      <th>4</th>\n",
       "      <td>1283788</td>\n",
       "      <td>Netflix</td>\n",
       "      <td>Analytics Engineer (L5) - Live Quality of Expe...</td>\n",
       "      <td>445,000</td>\n",
       "      <td>python</td>\n",
       "    </tr>\n",
       "    <tr>\n",
       "      <th>5</th>\n",
       "      <td>1578513</td>\n",
       "      <td>Netflix</td>\n",
       "      <td>Data Engineer - Commerce Product Data Engineer...</td>\n",
       "      <td>445,000</td>\n",
       "      <td>sql</td>\n",
       "    </tr>\n",
       "    <tr>\n",
       "      <th>6</th>\n",
       "      <td>1578513</td>\n",
       "      <td>Netflix</td>\n",
       "      <td>Data Engineer - Commerce Product Data Engineer...</td>\n",
       "      <td>445,000</td>\n",
       "      <td>python</td>\n",
       "    </tr>\n",
       "    <tr>\n",
       "      <th>7</th>\n",
       "      <td>1578513</td>\n",
       "      <td>Netflix</td>\n",
       "      <td>Data Engineer - Commerce Product Data Engineer...</td>\n",
       "      <td>445,000</td>\n",
       "      <td>scala</td>\n",
       "    </tr>\n",
       "    <tr>\n",
       "      <th>8</th>\n",
       "      <td>1578513</td>\n",
       "      <td>Netflix</td>\n",
       "      <td>Data Engineer - Commerce Product Data Engineer...</td>\n",
       "      <td>445,000</td>\n",
       "      <td>java</td>\n",
       "    </tr>\n",
       "    <tr>\n",
       "      <th>9</th>\n",
       "      <td>1578513</td>\n",
       "      <td>Netflix</td>\n",
       "      <td>Data Engineer - Commerce Product Data Engineer...</td>\n",
       "      <td>445,000</td>\n",
       "      <td>spark</td>\n",
       "    </tr>\n",
       "  </tbody>\n",
       "</table>\n",
       "</div>"
      ],
      "text/plain": [
       "    job_id company_name                                          job_title  \\\n",
       "0  1574285      Netflix                    Data Scientist , Games [Remote]   \n",
       "1  1574285      Netflix                    Data Scientist , Games [Remote]   \n",
       "2  1574285      Netflix                    Data Scientist , Games [Remote]   \n",
       "3  1283788      Netflix  Analytics Engineer (L5) - Live Quality of Expe...   \n",
       "4  1283788      Netflix  Analytics Engineer (L5) - Live Quality of Expe...   \n",
       "5  1578513      Netflix  Data Engineer - Commerce Product Data Engineer...   \n",
       "6  1578513      Netflix  Data Engineer - Commerce Product Data Engineer...   \n",
       "7  1578513      Netflix  Data Engineer - Commerce Product Data Engineer...   \n",
       "8  1578513      Netflix  Data Engineer - Commerce Product Data Engineer...   \n",
       "9  1578513      Netflix  Data Engineer - Commerce Product Data Engineer...   \n",
       "\n",
       "  average_yearly_salary_$  skills  \n",
       "0                 680,000     sql  \n",
       "1                 680,000  python  \n",
       "2                 680,000       r  \n",
       "3                 445,000     sql  \n",
       "4                 445,000  python  \n",
       "5                 445,000     sql  \n",
       "6                 445,000  python  \n",
       "7                 445,000   scala  \n",
       "8                 445,000    java  \n",
       "9                 445,000   spark  "
      ]
     },
     "execution_count": 12,
     "metadata": {},
     "output_type": "execute_result"
    }
   ],
   "source": [
    "# Load the CSV file into a DataFrame\n",
    "df_top_paying_job_skills = pd.read_csv('../csv_files_datapull/2_top_paying_job_skills.csv')\n",
    "df_top_paying_job_skills.head(10)"
   ]
  },
  {
   "cell_type": "code",
   "execution_count": null,
   "id": "729996ca",
   "metadata": {},
   "outputs": [
    {
     "data": {
      "image/png": "[encoded data removed]",
      "text/plain": [
       "<Figure size 1200x800 with 1 Axes>"
      ]
     },
     "metadata": {},
     "output_type": "display_data"
    }
   ],
   "source": [
    "# Sort by salary descending\n",
    "df_sorted = df_top_paying_job_skills.sort_values(by='skills', ascending=False)\n",
    "\n",
    "# Reverse the order for barh so highest is at the top\n",
    "df_sorted = df_sorted[::-1]\n",
    "\n",
    "# Name variables\n",
    "skills_series = df_top_paying_job_skills['skills'].str.split(',').explode().str.strip()\n",
    "skill_counts = skills_series.value_counts().sort_values(ascending=True)  # Sort ascending for barh highest at top\n",
    "bar_color = '#8E4585'\n",
    "\n",
    "plt.figure(figsize=(12, 8))\n",
    "skill_counts.plot(kind='barh', color=bar_color)\n",
    "plt.xlabel('Frequency')\n",
    "plt.ylabel('Skill')\n",
    "plt.title('Skill Count for Top Paying Jobs (2025)')\n",
    "plt.tight_layout()\n",
    "plt.show()"
   ]
  },
  {
   "cell_type": "code",
   "execution_count": null,
   "id": "e273e995",
   "metadata": {},
   "outputs": [],
   "source": []
  }
 ],
 "metadata": {
  "kernelspec": {
   "display_name": "Python 3",
   "language": "python",
   "name": "python3"
  },
  "language_info": {
   "codemirror_mode": {
    "name": "ipython",
    "version": 3
   },
   "file_extension": ".py",
   "mimetype": "text/x-python",
   "name": "python",
   "nbconvert_exporter": "python",
   "pygments_lexer": "ipython3",
   "version": "3.13.7"
  }
 },
 "nbformat": 4,
 "nbformat_minor": 5
}
